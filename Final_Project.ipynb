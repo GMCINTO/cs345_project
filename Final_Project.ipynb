{
 "cells": [
  {
   "cell_type": "code",
   "execution_count": 2,
   "metadata": {},
   "outputs": [
    {
     "name": "stdout",
     "output_type": "stream",
     "text": [
      "[55668 3287 14796 22528 149610 False 0.42 0.166 1 -17.235 1 0.0763 0.924\n",
      " 5.56e-06 0.101 0.267 77.489 4 0]\n",
      "55\n"
     ]
    }
   ],
   "source": [
    "#test\n",
    "from sklearn.model_selection import cross_val_score\n",
    "from sklearn.preprocessing import LabelEncoder\n",
    "import pandas as pd\n",
    "from sklearn.model_selection import train_test_split\n",
    "from pandas.api.types import is_numeric_dtype\n",
    "import numpy as np\n",
    "le = LabelEncoder()\n",
    "\n",
    "\n",
    "data = pd.read_csv('dataset.csv', index_col=0)\n",
    "for col in data.columns:\n",
    "    if(not is_numeric_dtype(data[col])):\n",
    "        data[col] = le.fit_transform(data[col])\n",
    "X = data.loc[:, data.columns != 'popularity'].values\n",
    "\n",
    "y = data['popularity'].values\n",
    "X.shape, y.shape\n",
    "print(X[1])\n",
    "print(y[1])\n",
    "size_test = 0.2\n",
    "size_validation = 0.2\n",
    "size_train = 0.6\n",
    "\n",
    "from sklearn.model_selection import train_test_split\n",
    "\n",
    "# first split into training / test, where the training set\n",
    "# will be further split into training / validation\n",
    "X_train, X_test, y_train, y_test = train_test_split(\n",
    "    X, y, test_size=size_test, random_state=5)\n"
   ]
  },
  {
   "cell_type": "markdown",
   "metadata": {},
   "source": [
    "Random Forest"
   ]
  },
  {
   "cell_type": "code",
   "execution_count": 9,
   "metadata": {},
   "outputs": [
    {
     "name": "stdout",
     "output_type": "stream",
     "text": [
      "Mean squared error:  571.512\n",
      "Root mean squared error:  23.906\n"
     ]
    }
   ],
   "source": [
    "from sklearn.tree import DecisionTreeClassifier\n",
    "from sklearn.ensemble import RandomForestClassifier\n",
    "from sklearn.metrics import mean_squared_error \n",
    "import math\n",
    "classifier = RandomForestClassifier()\n",
    "classifier.fit(X_train, y_train)\n",
    "y_pred = classifier.predict(X_test)\n",
    "mse = mean_squared_error(y_test, y_pred)\n",
    "rmse = math.sqrt(mse)\n",
    "print(\"Mean squared error: \", round(mse, 3))\n",
    "print(\"Root mean squared error: \", round(rmse, 3))"
   ]
  },
  {
   "cell_type": "markdown",
   "metadata": {},
   "source": [
    "PCA"
   ]
  },
  {
   "cell_type": "code",
   "execution_count": 9,
   "metadata": {},
   "outputs": [
    {
     "name": "stdout",
     "output_type": "stream",
     "text": [
      "Linear Regression: Mean Squared Error = 496.8801470493465\n",
      "Linear Regression: Root mean Squared Error = 22.290808577737742\n",
      "Random Forest: Mean Squared Error = 293.7732364678014\n",
      "Random Forest: Root mean Squared Error = 17.139814365033285\n",
      "Gradient Boosting: Mean Squared Error = 484.0225171402945\n",
      "Gradient Boosting: Root mean Squared Error = 22.000511747236573\n",
      "SVR: Mean Squared Error = 494.4210311457133\n",
      "SVR: Root mean Squared Error = 22.235580297031003\n",
      "KNN: Mean Squared Error = 492.2234403508772\n",
      "KNN: Root mean Squared Error = 22.186109175582754\n",
      "MLP: Mean Squared Error = 1742.4811828543482\n",
      "MLP: Root mean Squared Error = 41.74303753746663\n"
     ]
    }
   ],
   "source": [
    "import matplotlib.pyplot as plt\n",
    "from sklearn.decomposition import PCA\n",
    "from sklearn.linear_model import LinearRegression\n",
    "from sklearn.metrics import mean_squared_error \n",
    "\n",
    "from sklearn.ensemble import RandomForestRegressor, GradientBoostingRegressor\n",
    "from sklearn.svm import SVR\n",
    "from sklearn.neighbors import KNeighborsRegressor\n",
    "from sklearn.neural_network import MLPRegressor\n",
    "import math\n",
    "\n",
    "pca = PCA(n_components=3)\n",
    "\n",
    "pca.fit(X_train)\n",
    "\n",
    "principal_components = pca.components_\n",
    "#print(principal_components)\n",
    "\n",
    "X_train_pca = pca.transform(X_train)\n",
    "\n",
    "X_test_pca = pca.transform(X_test)\n",
    "\n",
    "\n",
    "\n",
    "models = {\n",
    "    \"Linear Regression\": LinearRegression(),\n",
    "    \"Random Forest\": RandomForestRegressor(),\n",
    "    \"Gradient Boosting\": GradientBoostingRegressor(),\n",
    "    \"SVR\": SVR(),\n",
    "    \"KNN\": KNeighborsRegressor(),\n",
    "    \"MLP\": MLPRegressor()\n",
    "}\n",
    "\n",
    "for name, model in models.items():\n",
    "    model.fit(X_train_pca, y_train)\n",
    "    y_pred = model.predict(X_test_pca)\n",
    "    mse = mean_squared_error(y_test, y_pred)\n",
    "    rmse = math.sqrt(mse)\n",
    "    print(f\"{name}: Mean Squared Error = {mse}\")\n",
    "    print(f\"{name}: Root mean Squared Error = {rmse}\")\n"
   ]
  }
 ],
 "metadata": {
  "kernelspec": {
   "display_name": "Python 3 (ipykernel)",
   "language": "python",
   "name": "python3"
  },
  "language_info": {
   "codemirror_mode": {
    "name": "ipython",
    "version": 3
   },
   "file_extension": ".py",
   "mimetype": "text/x-python",
   "name": "python",
   "nbconvert_exporter": "python",
   "pygments_lexer": "ipython3",
   "version": "3.11.5"
  }
 },
 "nbformat": 4,
 "nbformat_minor": 4
}
