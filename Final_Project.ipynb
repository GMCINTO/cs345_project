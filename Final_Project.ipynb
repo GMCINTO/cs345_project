{
 "cells": [
  {
   "cell_type": "code",
   "execution_count": 3,
   "metadata": {},
   "outputs": [
    {
     "name": "stdout",
     "output_type": "stream",
     "text": [
      "[55668 3287 14796 22528 149610 False 0.42 0.166 1 -17.235 1 0.0763 0.924\n",
      " 5.56e-06 0.101 0.267 77.489 4 0]\n",
      "55\n"
     ]
    }
   ],
   "source": [
    "#test\n",
    "from sklearn.model_selection import cross_val_score\n",
    "from sklearn.preprocessing import LabelEncoder\n",
    "import pandas as pd\n",
    "from sklearn.model_selection import train_test_split\n",
    "from pandas.api.types import is_numeric_dtype\n",
    "import numpy as np\n",
    "le = LabelEncoder()\n",
    "\n",
    "\n",
    "data = pd.read_csv('dataset.csv', index_col=0)\n",
    "for col in data.columns:\n",
    "    if(not is_numeric_dtype(data[col])):\n",
    "        data[col] = le.fit_transform(data[col])\n",
    "X = data.loc[:, data.columns != 'popularity'].values\n",
    "\n",
    "y = data['popularity'].values\n",
    "X.shape, y.shape\n",
    "print(X[1])\n",
    "print(y[1])\n",
    "size_test = 0.2\n",
    "size_validation = 0.2\n",
    "size_train = 0.6\n",
    "\n",
    "from sklearn.model_selection import train_test_split\n",
    "\n",
    "# first split into training / test, where the training set\n",
    "# will be further split into training / validation\n",
    "X_train, X_test, y_train, y_test = train_test_split(\n",
    "    X, y, test_size=size_test, random_state=5)\n"
   ]
  },
  {
   "cell_type": "markdown",
   "metadata": {},
   "source": [
    "Random Forest"
   ]
  },
  {
   "cell_type": "code",
   "execution_count": 9,
   "metadata": {},
   "outputs": [
    {
     "name": "stdout",
     "output_type": "stream",
     "text": [
      "Mean squared error:  571.512\n",
      "Root mean squared error:  23.906\n"
     ]
    }
   ],
   "source": [
    "from sklearn.tree import DecisionTreeClassifier\n",
    "from sklearn.ensemble import RandomForestClassifier\n",
    "from sklearn.metrics import mean_squared_error \n",
    "import math\n",
    "classifier = RandomForestClassifier()\n",
    "classifier.fit(X_train, y_train)\n",
    "y_pred = classifier.predict(X_test)\n",
    "mse = mean_squared_error(y_test, y_pred)\n",
    "rmse = math.sqrt(mse)\n",
    "print(\"Mean squared error: \", round(mse, 3))\n",
    "print(\"Root mean squared error: \", round(rmse, 3))"
   ]
  },
  {
   "cell_type": "markdown",
   "metadata": {},
   "source": [
    "PCA"
   ]
  },
  {
   "cell_type": "code",
   "execution_count": null,
   "metadata": {},
   "outputs": [],
   "source": []
  }
 ],
 "metadata": {
  "kernelspec": {
   "display_name": "Python 3 (ipykernel)",
   "language": "python",
   "name": "python3"
  },
  "language_info": {
   "codemirror_mode": {
    "name": "ipython",
    "version": 3
   },
   "file_extension": ".py",
   "mimetype": "text/x-python",
   "name": "python",
   "nbconvert_exporter": "python",
   "pygments_lexer": "ipython3",
   "version": "3.11.9"
  }
 },
 "nbformat": 4,
 "nbformat_minor": 4
}
