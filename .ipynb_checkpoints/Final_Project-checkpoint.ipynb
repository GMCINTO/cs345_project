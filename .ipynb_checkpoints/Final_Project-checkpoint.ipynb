{
 "cells": [
  {
   "cell_type": "code",
   "execution_count": 16,
   "metadata": {},
   "outputs": [
    {
     "name": "stdout",
     "output_type": "stream",
     "text": [
      "[55668 3287 14796 22528 149610 False 0.42 0.166 1 -17.235 1 0.0763 0.924\n",
      " 5.56e-06 0.101 0.267 77.489 4 0]\n",
      "55\n"
     ]
    },
    {
     "name": "stderr",
     "output_type": "stream",
     "text": [
      "C:\\Users\\markj\\AppData\\Local\\Packages\\PythonSoftwareFoundation.Python.3.11_qbz5n2kfra8p0\\LocalCache\\local-packages\\Python311\\site-packages\\sklearn\\model_selection\\_split.py:737: UserWarning: The least populated class in y has only 1 members, which is less than n_splits=5.\n",
      "  warnings.warn(\n"
     ]
    },
    {
     "data": {
      "text/plain": [
       "-1573.062"
      ]
     },
     "execution_count": 16,
     "metadata": {},
     "output_type": "execute_result"
    }
   ],
   "source": [
    "#test\n",
    "from sklearn.tree import DecisionTreeClassifier\n",
    "from sklearn.ensemble import RandomForestClassifier\n",
    "from sklearn.model_selection import cross_val_score\n",
    "from sklearn.preprocessing import LabelEncoder\n",
    "import pandas as pd\n",
    "from sklearn.model_selection import train_test_split\n",
    "from pandas.api.types import is_numeric_dtype\n",
    "import numpy as np\n",
    "le = LabelEncoder()\n",
    "\n",
    "\n",
    "data = pd.read_csv('dataset.csv', index_col=0)\n",
    "for col in data.columns:\n",
    "    if(not is_numeric_dtype(data[col])):\n",
    "        data[col] = le.fit_transform(data[col])\n",
    "X = data.loc[:, data.columns != 'popularity'].values\n",
    "\n",
    "y = data['popularity'].values\n",
    "X.shape, y.shape\n",
    "print(X[1])\n",
    "print(y[1])\n",
    "size_test = 0.3\n",
    "size_validation = 0.2\n",
    "size_train = 0.5\n",
    "\n",
    "from sklearn.model_selection import train_test_split\n",
    "\n",
    "# first split into training / test, where the training set\n",
    "# will be further split into training / validation\n",
    "X_train, X_test, y_train, y_test = train_test_split(\n",
    "    X, y, test_size=size_test, random_state=5)\n",
    "\n",
    "\n",
    "classifier = RandomForestClassifier(max_depth = 3)\n",
    "classifier.fit(X_train, y_train)\n",
    "\n",
    "accuracy = cross_val_score(classifier, X, y, scoring= 'neg_mean_squared_error')\n",
    "round(np.mean(accuracy), 3)"
   ]
  }
 ],
 "metadata": {
  "kernelspec": {
   "display_name": "Python 3 (ipykernel)",
   "language": "python",
   "name": "python3"
  },
  "language_info": {
   "codemirror_mode": {
    "name": "ipython",
    "version": 3
   },
   "file_extension": ".py",
   "mimetype": "text/x-python",
   "name": "python",
   "nbconvert_exporter": "python",
   "pygments_lexer": "ipython3",
   "version": "3.11.9"
  }
 },
 "nbformat": 4,
 "nbformat_minor": 4
}
