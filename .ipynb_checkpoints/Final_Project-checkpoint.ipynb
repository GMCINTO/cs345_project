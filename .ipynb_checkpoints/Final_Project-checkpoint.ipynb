{
 "cells": [
  {
   "cell_type": "code",
   "execution_count": null,
   "metadata": {},
   "outputs": [],
   "source": [
    "#test\n",
    "import pandas as pd\n",
    "data = pd.read_csv('dataset.csv', \n",
    "                   index_col=0)\n",
    "pd.get_dummies(data, columns = ['track_id','artists','album_name','track_name','explicit','track_genre'])\n",
    "X = data.loc[:, data.columns != 'popularity'].values\n",
    "#X  = X[:, 4:]\n",
    "y = data['popularity'].values\n",
    "from sklearn import preprocessing\n",
    "X.shape, y.shape\n",
    "print(X[1])\n",
    "size_test = 0.3\n",
    "size_validation = 0.2\n",
    "size_train = 0.5\n",
    "\n",
    "from sklearn.model_selection import train_test_split\n",
    "\n",
    "# first split into training / test, where the training set\n",
    "# will be further split into training / validation\n",
    "X_train, X_test, y_train, y_test = train_test_split(\n",
    "    X, y, test_size=size_test, random_state=5)\n",
    "\n",
    "from sklearn.tree import DecisionTreeClassifier\n",
    "from sklearn.ensemble import RandomForestClassifier\n",
    "from sklearn.model_selection import cross_val_score\n",
    "classifier = RandomForestClassifier()\n",
    "classifier.fit(X_train, y_train)\n",
    "\n",
    "#accuracy = cross_val_score(classifier, X, y, scoring='accuracy')\n",
    "#round(np.mean(accuracy), 3)"
   ]
  }
 ],
 "metadata": {
  "kernelspec": {
   "display_name": "Python 3 (ipykernel)",
   "language": "python",
   "name": "python3"
  },
  "language_info": {
   "codemirror_mode": {
    "name": "ipython",
    "version": 3
   },
   "file_extension": ".py",
   "mimetype": "text/x-python",
   "name": "python",
   "nbconvert_exporter": "python",
   "pygments_lexer": "ipython3",
   "version": "3.11.9"
  }
 },
 "nbformat": 4,
 "nbformat_minor": 4
}
